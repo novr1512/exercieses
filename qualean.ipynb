{
 "cells": [
  {
   "cell_type": "markdown",
   "id": "42a2e708",
   "metadata": {},
   "source": [
    "### Custom Data Types\n",
    "#### Qualean\n",
    "It has Boolean + Quantum concepts.\n",
    "We can assign it only 3 possible real states. True, False, and Maybe (1, 0, -1).\n",
    "It internally picks an imaginary state.\n",
    "The moment you assign it a real number, it immediately finds an imaginary number random.uniform(-1, 1) and multiplies with it and stores that number internally after using Bankers rounding to 10th decimal place.\n",
    "It should perform all the operations like addition, multiplication, square root, greater than comparisons, etc."
   ]
  },
  {
   "cell_type": "code",
   "execution_count": 17,
   "id": "391de5fa",
   "metadata": {},
   "outputs": [],
   "source": [
    "import decimal\n",
    "from decimal import Decimal\n",
    "import random\n",
    "class Qualean(object):\n",
    "    def __init__(self,number: 'an integer from [-1, 0, 1]'):\n",
    "        if(number not in [-1,0,1]):\n",
    "            raise Exception(\"the number is not in the range 1, 0, -1\")\n",
    "            \n",
    "        self.__realNum = number\n",
    "        self.__magicNum= random.uniform(-1, 1)\n",
    "        self.__num=round(self.__realNum * self.__magicNum,10)\n",
    "        \n",
    "    def getNumber(self):\n",
    "        return self.__num\n",
    "    \n",
    "    def getMagicNumber(self):\n",
    "        return self.__magicNum\n",
    "    \n",
    "    def __str__(self):\n",
    "        return \"{0}\".format(str(self.__num))\n",
    "    \n",
    "    def __repr__(self):\n",
    "        return str(self.__num)\n",
    "    \n",
    "    def __mul__(self,value):\n",
    "        if isinstance(value,Qualean):\n",
    "            return self.__num * value.__num\n",
    "        return self.__num * decimal(value)\n",
    "    \n",
    "    def __add__(self,value):\n",
    "        if isinstance(value,Qualean):\n",
    "            return self.__num + value.__num\n",
    "        return self.__num + decimal(value)\n",
    "    \n",
    "    def __sqrt__(self):\n",
    "        return sqrt(self.__num)\n",
    "            \n",
    "    def __le__(self, value):\n",
    "        if isinstance(value,Qualean):\n",
    "            return self.__num <= value.__num\n",
    "        return self.__num <= decimal(value)\n",
    "\n",
    "    def __gt__(self, value):\n",
    "        if isinstance(value,Qualean):\n",
    "            return self.__num > value.__num\n",
    "        return self.__num > decimal(value)\n",
    "\n",
    "    def __ge__(self, value):\n",
    "        if isinstance(value,Qualean):\n",
    "            return self.__num >= value.__num\n",
    "        return self.__num >= decimal(value)\n",
    "\n",
    "    def __lt__(self, value):\n",
    "        if isinstance(value,Qualean):\n",
    "            return self.__num < value.__num\n",
    "        return self.__num < decimal(value)\n"
   ]
  },
  {
   "cell_type": "code",
   "execution_count": 18,
   "id": "1cf726af",
   "metadata": {},
   "outputs": [],
   "source": [
    "# object creation\n",
    "q = Qualean(1)"
   ]
  },
  {
   "cell_type": "code",
   "execution_count": 19,
   "id": "c4a559e7",
   "metadata": {},
   "outputs": [
    {
     "data": {
      "text/plain": [
       "-0.9925919644"
      ]
     },
     "execution_count": 19,
     "metadata": {},
     "output_type": "execute_result"
    }
   ],
   "source": [
    "# getter check\n",
    "q.getNumber()"
   ]
  },
  {
   "cell_type": "code",
   "execution_count": 20,
   "id": "05964965",
   "metadata": {},
   "outputs": [
    {
     "data": {
      "text/plain": [
       "-0.9925919644"
      ]
     },
     "execution_count": 20,
     "metadata": {},
     "output_type": "execute_result"
    }
   ],
   "source": [
    "# testing implicit represntation method\n",
    "q"
   ]
  },
  {
   "cell_type": "code",
   "execution_count": 21,
   "id": "81cbb6c1",
   "metadata": {},
   "outputs": [
    {
     "data": {
      "text/plain": [
       "-1.9851839288"
      ]
     },
     "execution_count": 21,
     "metadata": {},
     "output_type": "execute_result"
    }
   ],
   "source": [
    "# additon function \n",
    "q + q"
   ]
  },
  {
   "cell_type": "code",
   "execution_count": 22,
   "id": "65f94d59",
   "metadata": {},
   "outputs": [
    {
     "data": {
      "text/plain": [
       "0.9852388077914508"
      ]
     },
     "execution_count": 22,
     "metadata": {},
     "output_type": "execute_result"
    }
   ],
   "source": [
    "# multipliy function\n",
    "q * q"
   ]
  },
  {
   "cell_type": "code",
   "execution_count": 23,
   "id": "ff67ddc2",
   "metadata": {},
   "outputs": [
    {
     "data": {
      "text/plain": [
       "str"
      ]
     },
     "execution_count": 23,
     "metadata": {},
     "output_type": "execute_result"
    }
   ],
   "source": [
    "# make it string \n",
    "type(str(q))"
   ]
  },
  {
   "cell_type": "code",
   "execution_count": 26,
   "id": "1770cb82",
   "metadata": {},
   "outputs": [
    {
     "data": {
      "text/plain": [
       "True"
      ]
     },
     "execution_count": 26,
     "metadata": {},
     "output_type": "execute_result"
    }
   ],
   "source": [
    "# comparison operators \n",
    "q >= q"
   ]
  }
 ],
 "metadata": {
  "kernelspec": {
   "display_name": "Python 3 (ipykernel)",
   "language": "python",
   "name": "python3"
  },
  "language_info": {
   "codemirror_mode": {
    "name": "ipython",
    "version": 3
   },
   "file_extension": ".py",
   "mimetype": "text/x-python",
   "name": "python",
   "nbconvert_exporter": "python",
   "pygments_lexer": "ipython3",
   "version": "3.9.13"
  }
 },
 "nbformat": 4,
 "nbformat_minor": 5
}
