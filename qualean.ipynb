{
 "cells": [
  {
   "cell_type": "code",
   "execution_count": 49,
   "id": "391de5fa",
   "metadata": {},
   "outputs": [],
   "source": [
    "import decimal\n",
    "from decimal import Decimal\n",
    "import random\n",
    "class Qualean(object):\n",
    "    def __init__(self,number: 'an integer from [-1, 0, 1]'):\n",
    "        if(number not in [-1,0,1]):\n",
    "            raise Exception(\"the number is not in the range 1, 0, -1\")\n",
    "            \n",
    "        self.__realNum = number\n",
    "        self.__magicNum= random.uniform(-1, 1)\n",
    "        self.__num=round(self.__realNum * self.__magicNum,10)\n",
    "        \n",
    "    def getNumber(self):\n",
    "        return self.__num\n",
    "    \n",
    "    def __str__(self):\n",
    "        return {0}.format(self.__num)\n",
    "    \n",
    "    def __repr__(self):\n",
    "        return str(self.__num)\n",
    "    \n",
    "    def __mul__(self,value):\n",
    "        if isinstance(value,Qualean):\n",
    "            return self.__num * value.__num\n",
    "        return self.__num * decimal(value)\n",
    "    \n",
    "    def __add__(self,value):\n",
    "        if isinstance(value,Qualean):\n",
    "            return self.__num + value.__num\n",
    "        return self.__num + decimal(value)\n",
    "    \n",
    "    def __sqrt__(self,value):\n",
    "        return sqrt(self.__num)\n",
    "        \n",
    "        \n",
    "        "
   ]
  },
  {
   "cell_type": "code",
   "execution_count": 50,
   "id": "1cf726af",
   "metadata": {},
   "outputs": [],
   "source": [
    "q = Qualean(1)"
   ]
  },
  {
   "cell_type": "code",
   "execution_count": 51,
   "id": "c4a559e7",
   "metadata": {},
   "outputs": [
    {
     "data": {
      "text/plain": [
       "0.7606837452"
      ]
     },
     "execution_count": 51,
     "metadata": {},
     "output_type": "execute_result"
    }
   ],
   "source": [
    "q.getNumber()"
   ]
  },
  {
   "cell_type": "code",
   "execution_count": 52,
   "id": "05964965",
   "metadata": {},
   "outputs": [
    {
     "data": {
      "text/plain": [
       "0.7606837452"
      ]
     },
     "execution_count": 52,
     "metadata": {},
     "output_type": "execute_result"
    }
   ],
   "source": [
    "q"
   ]
  },
  {
   "cell_type": "code",
   "execution_count": 53,
   "id": "81cbb6c1",
   "metadata": {},
   "outputs": [
    {
     "data": {
      "text/plain": [
       "1.5213674904"
      ]
     },
     "execution_count": 53,
     "metadata": {},
     "output_type": "execute_result"
    }
   ],
   "source": [
    "q + q"
   ]
  },
  {
   "cell_type": "code",
   "execution_count": null,
   "id": "65f94d59",
   "metadata": {},
   "outputs": [],
   "source": []
  }
 ],
 "metadata": {
  "kernelspec": {
   "display_name": "Python 3 (ipykernel)",
   "language": "python",
   "name": "python3"
  },
  "language_info": {
   "codemirror_mode": {
    "name": "ipython",
    "version": 3
   },
   "file_extension": ".py",
   "mimetype": "text/x-python",
   "name": "python",
   "nbconvert_exporter": "python",
   "pygments_lexer": "ipython3",
   "version": "3.9.13"
  }
 },
 "nbformat": 4,
 "nbformat_minor": 5
}
