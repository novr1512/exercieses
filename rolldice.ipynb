{
 "cells": [
  {
   "cell_type": "code",
   "execution_count": 16,
   "id": "d5cd5ac4",
   "metadata": {},
   "outputs": [
    {
     "name": "stdout",
     "output_type": "stream",
     "text": [
      "Please input 1 to roll the dice or any letter to exit:3\n",
      "exit dice roll simulator\n"
     ]
    }
   ],
   "source": [
    "import random\n",
    "value = 1\n",
    "while(value == 1):\n",
    "    try:\n",
    "        value = input(\"Please input 1 to roll the dice or any letter to exit:\")\n",
    "        value = int(value) \n",
    "        if(value == 1):\n",
    "            print(\"the dice number is %d \" % random.randint(1, 6))\n",
    "        else:\n",
    "            print(\"exit dice roll simulator\")\n",
    "            break\n",
    "    except:\n",
    "        print(\"exit dice roll simulator\")\n",
    "        \n",
    "        \n"
   ]
  },
  {
   "cell_type": "code",
   "execution_count": 14,
   "id": "41714eb6",
   "metadata": {},
   "outputs": [
    {
     "data": {
      "text/plain": [
       "str"
      ]
     },
     "execution_count": 14,
     "metadata": {},
     "output_type": "execute_result"
    }
   ],
   "source": [
    "type(value)"
   ]
  },
  {
   "cell_type": "code",
   "execution_count": null,
   "id": "dd00e104",
   "metadata": {},
   "outputs": [],
   "source": []
  }
 ],
 "metadata": {
  "kernelspec": {
   "display_name": "Python 3 (ipykernel)",
   "language": "python",
   "name": "python3"
  },
  "language_info": {
   "codemirror_mode": {
    "name": "ipython",
    "version": 3
   },
   "file_extension": ".py",
   "mimetype": "text/x-python",
   "name": "python",
   "nbconvert_exporter": "python",
   "pygments_lexer": "ipython3",
   "version": "3.9.13"
  }
 },
 "nbformat": 4,
 "nbformat_minor": 5
}
