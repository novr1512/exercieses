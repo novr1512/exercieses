{
 "cells": [
  {
   "cell_type": "code",
   "execution_count": null,
   "id": "47966819",
   "metadata": {},
   "outputs": [],
   "source": []
  },
  {
   "cell_type": "code",
   "execution_count": 1,
   "id": "dd73bb87",
   "metadata": {},
   "outputs": [],
   "source": [
    "def checkRow(row,Number):\n",
    "    if(Number in row):\n",
    "        return True\n",
    "    else:\n",
    "        return False\n",
    "\n",
    "def checkCol(lists,Number,index):\n",
    "    for list in lists:\n",
    "        if(Number == list[index]):\n",
    "            return True\n",
    "    return False \n",
    "    \n",
    "def checkBox(lists,Number,xRange,yRange):\n",
    "    for x in xRange:\n",
    "        for y in yRange:\n",
    "            if(Number == list[x][y]):\n",
    "                    return True\n",
    "    return False\n",
    "        \n",
    "def checkSq(lists,Number,x,y):\n",
    "    if(x <= 2): #square 1 \n",
    "        if(y <= 2):\n",
    "            return checkBox(lists,Number,[0,1,2],[0,1,2])\n",
    "        elif(y <= 5):\n",
    "            return checkBox(lists,Number,[0,1,2],[3,4,5])\n",
    "        else:\n",
    "            return checkBox(lists,Number,[0,1,2],[6,7,8])\n",
    "    elif(x <= 5): #square 2\n",
    "        if(y <= 2):\n",
    "            return checkBox(lists,Number,[3,4,5],[0,1,2])\n",
    "        elif(y <= 5):\n",
    "            return checkBox(lists,Number,[3,4,5],[3,4,5])\n",
    "        else:\n",
    "            return checkBox(lists,Number,[3,4,5],[6,7,8])\n",
    "    else: #square 3\n",
    "        if(y <= 2):\n",
    "            return checkBox(lists,Number,[6,7,8],[0,1,2])\n",
    "        elif(y <= 5):\n",
    "            return checkBox(lists,Number,[6,7,8],[3,4,5])\n",
    "        else:\n",
    "            return checkBox(lists,Number,[6,7,8],[6,7,8])\n",
    "    return False\n",
    "    "
   ]
  },
  {
   "cell_type": "code",
   "execution_count": 2,
   "id": "3cf40946",
   "metadata": {},
   "outputs": [],
   "source": [
    "# check for specific number if it exists within row, column or square\n",
    "def checkNumbers(lists,Number,x,y):\n",
    "    return checkSq(lists,Number,x, y) or checkCol(lists,Number,y) or checkRow(lists[x],Number)"
   ]
  },
  {
   "cell_type": "code",
   "execution_count": 3,
   "id": "8232994a",
   "metadata": {},
   "outputs": [],
   "source": [
    "def findConstraints(list):\n",
    "    constraints=[[],[],[],[],[],[],[],[],[]]\n",
    "    range = [0,1,2,3,4,5,6,7,8]\n",
    "    for x in range:\n",
    "        for y in range:\n",
    "            if('.' == list[x][y]):\n",
    "                constraints[x].insert(y,specificCellConstraint(list,x,y))\n",
    "            else:\n",
    "                constraints[x].insert(y,[list[x][y]])\n",
    "    return constraints\n",
    "    \n",
    "def specificCellConstraint(list,x,y):\n",
    "    avaliableNum = ['1','2','3','4','5','6','7','8','9']\n",
    "    allNum = [1,2,3,4,5,6,7,8,9]\n",
    "    for i in allNum:\n",
    "        num = str(i)\n",
    "        if(checkNumbers(list,num,x,y)):\n",
    "            avaliableNum.remove(str(i))\n",
    "            \n",
    "    return avaliableNum"
   ]
  },
  {
   "cell_type": "code",
   "execution_count": 4,
   "id": "2946a373",
   "metadata": {},
   "outputs": [],
   "source": [
    "def updateConstraints(list,xpos,ypos, constraints):\n",
    "    range = [0,1,2,3,4,5,6,7,8]\n",
    "    for x in range:\n",
    "        if('.' == list[x][ypos]):\n",
    "            constraints[x].insert(ypos,specificCellConstraint(list,x,ypos))\n",
    "        \n",
    "    for y in range:\n",
    "        if('.' == list[xpos][y]):\n",
    "            constraints[xpos].insert(y,specificCellConstraint(list,xpos,y))\n",
    "    \n",
    "    return constraints"
   ]
  },
  {
   "cell_type": "code",
   "execution_count": 5,
   "id": "56457916",
   "metadata": {},
   "outputs": [],
   "source": [
    "\n",
    "def fillGaps(list):\n",
    "    range = [0,1,2,3,4,5,6,7,8]\n",
    "    while(noMoreGaps(list)):\n",
    "        for x in range:\n",
    "            for y in range:\n",
    "                if('.' == list[x][y]):\n",
    "                    list = fillOneGap(list,x,y)\n",
    "    return list         \n",
    "                    \n",
    "def noMoreGaps(list):\n",
    "    range = [0,1,2,3,4,5,6,7,8]\n",
    "    for x in range:\n",
    "        for y in range:\n",
    "            if('.' == list[x][y]):\n",
    "                return True\n",
    "    return False    \n",
    "                    \n",
    "def fillOneGap(list,x,y):\n",
    "    avaliableNum = findConstraints(list)\n",
    "    if len(avaliableNum[x][y])==1:\n",
    "        list[x][y]=str(avaliableNum[x][y][0])\n",
    "    return list"
   ]
  },
  {
   "cell_type": "code",
   "execution_count": 6,
   "id": "9c7e0131",
   "metadata": {},
   "outputs": [],
   "source": [
    "list = [[\"5\",\"3\",\".\",\".\",\"7\",\".\",\".\",\".\",\".\"],[\"6\",\".\",\".\",\"1\",\"9\",\"5\",\".\",\".\",\".\"],[\".\",\"9\",\"8\",\".\",\".\",\".\",\".\",\"6\",\".\"],[\"8\",\".\",\".\",\".\",\"6\",\".\",\".\",\".\",\"3\"],[\"4\",\".\",\".\",\"8\",\".\",\"3\",\".\",\".\",\"1\"],[\"7\",\".\",\".\",\".\",\"2\",\".\",\".\",\".\",\"6\"],[\".\",\"6\",\".\",\".\",\".\",\".\",\"2\",\"8\",\".\"],[\".\",\".\",\".\",\"4\",\"1\",\"9\",\".\",\".\",\"5\"],[\".\",\".\",\".\",\".\",\"8\",\".\",\".\",\"7\",\"9\"]]\n",
    "constraints=findConstraints(list)"
   ]
  },
  {
   "cell_type": "code",
   "execution_count": 9,
   "id": "4af03492",
   "metadata": {},
   "outputs": [
    {
     "name": "stdout",
     "output_type": "stream",
     "text": [
      "update\n",
      "update\n",
      "update\n",
      "update\n",
      "update\n",
      "update\n",
      "update\n",
      "update\n",
      "update\n",
      "update\n",
      "update\n",
      "update\n",
      "update\n",
      "update\n",
      "update\n",
      "update\n",
      "update\n",
      "update\n",
      "update\n",
      "update\n",
      "update\n",
      "update\n",
      "update\n",
      "update\n",
      "update\n",
      "update\n",
      "update\n",
      "update\n",
      "update\n",
      "update\n",
      "update\n",
      "update\n",
      "update\n",
      "update\n",
      "update\n",
      "update\n",
      "update\n",
      "update\n",
      "update\n",
      "update\n",
      "update\n",
      "update\n",
      "update\n",
      "update\n",
      "update\n",
      "update\n",
      "update\n",
      "update\n",
      "update\n",
      "update\n",
      "update\n"
     ]
    },
    {
     "data": {
      "text/plain": [
       "[['5', '3', '4', '6', '7', '8', '9', '1', '2'],\n",
       " ['6', '7', '2', '1', '9', '5', '3', '4', '8'],\n",
       " ['1', '9', '8', '3', '4', '2', '5', '6', '7'],\n",
       " ['8', '5', '9', '7', '6', '1', '4', '2', '3'],\n",
       " ['4', '2', '6', '8', '5', '3', '7', '9', '1'],\n",
       " ['7', '1', '3', '9', '2', '4', '8', '5', '6'],\n",
       " ['9', '6', '1', '5', '3', '7', '2', '8', '4'],\n",
       " ['2', '8', '7', '4', '1', '9', '6', '3', '5'],\n",
       " ['3', '4', '5', '2', '8', '6', '1', '7', '9']]"
      ]
     },
     "execution_count": 9,
     "metadata": {},
     "output_type": "execute_result"
    }
   ],
   "source": [
    "fillGaps(list)"
   ]
  },
  {
   "cell_type": "code",
   "execution_count": null,
   "id": "71431e9e",
   "metadata": {},
   "outputs": [],
   "source": []
  }
 ],
 "metadata": {
  "kernelspec": {
   "display_name": "Python 3 (ipykernel)",
   "language": "python",
   "name": "python3"
  },
  "language_info": {
   "codemirror_mode": {
    "name": "ipython",
    "version": 3
   },
   "file_extension": ".py",
   "mimetype": "text/x-python",
   "name": "python",
   "nbconvert_exporter": "python",
   "pygments_lexer": "ipython3",
   "version": "3.9.13"
  }
 },
 "nbformat": 4,
 "nbformat_minor": 5
}
