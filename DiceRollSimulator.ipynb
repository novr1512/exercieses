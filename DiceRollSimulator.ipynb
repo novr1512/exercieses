{
 "cells": [
  {
   "cell_type": "markdown",
   "id": "fa672463",
   "metadata": {},
   "source": [
    "# Dice Roll Simulater \n"
   ]
  },
  {
   "cell_type": "code",
   "execution_count": 1,
   "id": "d5cd5ac4",
   "metadata": {},
   "outputs": [
    {
     "name": "stdout",
     "output_type": "stream",
     "text": [
      "Please input 1 to roll the dice or any letter to exit:1\n",
      "the dice number is 6 \n",
      "Please input 1 to roll the dice or any letter to exit:1\n",
      "the dice number is 2 \n",
      "Please input 1 to roll the dice or any letter to exit:1\n",
      "the dice number is 2 \n",
      "Please input 1 to roll the dice or any letter to exit:D\n",
      "exit dice roll simulator\n"
     ]
    }
   ],
   "source": [
    "import random\n",
    "value = 1\n",
    "while(value == 1):\n",
    "    try:\n",
    "        value = input(\"Please input 1 to roll the dice or any letter to exit:\")\n",
    "        value = int(value) \n",
    "        if(value == 1):\n",
    "            print(\"the dice number is %d \" % random.randint(1, 6))\n",
    "        else:\n",
    "            print(\"exit dice roll simulator\")\n",
    "            break\n",
    "    except:\n",
    "        print(\"exit dice roll simulator\")\n",
    "        \n",
    "        \n"
   ]
  },
  {
   "cell_type": "code",
   "execution_count": null,
   "id": "84b62971",
   "metadata": {},
   "outputs": [],
   "source": []
  }
 ],
 "metadata": {
  "kernelspec": {
   "display_name": "Python 3 (ipykernel)",
   "language": "python",
   "name": "python3"
  },
  "language_info": {
   "codemirror_mode": {
    "name": "ipython",
    "version": 3
   },
   "file_extension": ".py",
   "mimetype": "text/x-python",
   "name": "python",
   "nbconvert_exporter": "python",
   "pygments_lexer": "ipython3",
   "version": "3.9.13"
  }
 },
 "nbformat": 4,
 "nbformat_minor": 5
}
