{
 "cells": [
  {
   "cell_type": "markdown",
   "id": "c6746d72",
   "metadata": {},
   "source": [
    "### Maclaurin Series Formula\n",
    "A Maclaurin series is a function that has expansion series that gives the sum of derivatives of that function. The Maclaurin series of a function is a special case of Taylor series when c = 0\n",
    "\n",
    "The formula has 3 inputs : \n",
    "    1. the function\n",
    "    2. the end of interval as terms (since infinty is not an option here)\n",
    "    3. the value of x\n",
    "    \n",
    "    \n",
    "##### importing libraries "
   ]
  },
  {
   "cell_type": "code",
   "execution_count": 1,
   "id": "cdd0bc62",
   "metadata": {},
   "outputs": [],
   "source": [
    "import numpy as nb\n",
    "from sympy import *\n",
    "import mpmath\n",
    "import math"
   ]
  },
  {
   "cell_type": "markdown",
   "id": "0e33005f",
   "metadata": {},
   "source": [
    "##### implementing the Maclaurin Series Formula"
   ]
  },
  {
   "cell_type": "code",
   "execution_count": 2,
   "id": "627304f2",
   "metadata": {},
   "outputs": [],
   "source": [
    "def MaclaurinSeriesFormula():\n",
    "    x = symbols('x') \n",
    "\n",
    "    function=input(\"Maclaurin series of this function:\")\n",
    "\n",
    "    terms=int(input(\"how many terms you want:\"))\n",
    "    xInput = 0\n",
    "    \n",
    "    while(xInput == 0 ):\n",
    "        xInput =float(input(\"x value (should not be zero):\"))\n",
    "    print()\n",
    "    formula = 0\n",
    "    # deriv(f(0))*(x**n)/n!\n",
    "    for i in range(0,terms+1):\n",
    "        #deriv(f(a))\n",
    "        derivFunction =diff(function,x,i)\n",
    "        #deriv(f(0))\n",
    "        derOfZero = derivFunction.subs(x, 0)\n",
    "        if(derOfZero !=0):\n",
    "            formula += ((derOfZero)/factorial(i))*(xInput**i)\n",
    "            print('('+str(((derOfZero)/factorial(i))*(xInput**i))+') + ')\n",
    "    print()\n",
    "    print(\"the result is \"+str(formula))\n",
    "        \n",
    "        \n",
    "    "
   ]
  },
  {
   "cell_type": "markdown",
   "id": "1c1d92ef",
   "metadata": {},
   "source": [
    "##### finding the Maclaurin Series for sin(x) in terms of 7 at x = 0.5"
   ]
  },
  {
   "cell_type": "code",
   "execution_count": 3,
   "id": "b1340d5c",
   "metadata": {},
   "outputs": [
    {
     "name": "stdout",
     "output_type": "stream",
     "text": [
      "Maclaurin series of this function:sin(x)\n",
      "how many terms you want:10\n",
      "x value (should not be zero):0.5\n",
      "\n",
      "(0.500000000000000) + \n",
      "(-0.0208333333333333) + \n",
      "(0.000260416666666667) + \n",
      "(-1.55009920634921e-6) + \n",
      "(5.38228891093474e-9) + \n",
      "\n",
      "the result is 0.479425538616416\n"
     ]
    }
   ],
   "source": [
    "MaclaurinSeriesFormula()"
   ]
  }
 ],
 "metadata": {
  "kernelspec": {
   "display_name": "Python 3 (ipykernel)",
   "language": "python",
   "name": "python3"
  },
  "language_info": {
   "codemirror_mode": {
    "name": "ipython",
    "version": 3
   },
   "file_extension": ".py",
   "mimetype": "text/x-python",
   "name": "python",
   "nbconvert_exporter": "python",
   "pygments_lexer": "ipython3",
   "version": "3.9.13"
  }
 },
 "nbformat": 4,
 "nbformat_minor": 5
}
