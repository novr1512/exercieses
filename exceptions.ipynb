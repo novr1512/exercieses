{
 "cells": [
  {
   "cell_type": "markdown",
   "id": "318f358a",
   "metadata": {},
   "source": [
    "#### Exercise 1 \n",
    "In the next cell, this line throws an exception because the file does not exist"
   ]
  },
  {
   "cell_type": "code",
   "execution_count": 1,
   "id": "7a13863c",
   "metadata": {},
   "outputs": [
    {
     "ename": "FileNotFoundError",
     "evalue": "[Errno 2] No such file or directory: 'demofile.txt'",
     "output_type": "error",
     "traceback": [
      "\u001b[1;31m---------------------------------------------------------------------------\u001b[0m",
      "\u001b[1;31mFileNotFoundError\u001b[0m                         Traceback (most recent call last)",
      "\u001b[1;32m~\\AppData\\Local\\Temp\\ipykernel_18840\\2458553704.py\u001b[0m in \u001b[0;36m<module>\u001b[1;34m\u001b[0m\n\u001b[1;32m----> 1\u001b[1;33m \u001b[0mf\u001b[0m \u001b[1;33m=\u001b[0m \u001b[0mopen\u001b[0m\u001b[1;33m(\u001b[0m\u001b[1;34m\"demofile.txt\"\u001b[0m\u001b[1;33m)\u001b[0m\u001b[1;33m\u001b[0m\u001b[1;33m\u001b[0m\u001b[0m\n\u001b[0m",
      "\u001b[1;31mFileNotFoundError\u001b[0m: [Errno 2] No such file or directory: 'demofile.txt'"
     ]
    }
   ],
   "source": [
    "f = open(\"demofile.txt\")"
   ]
  },
  {
   "cell_type": "markdown",
   "id": "6f5edb5d",
   "metadata": {},
   "source": [
    "so, to solve the problem the line is wrapped with try..except to handle the exception"
   ]
  },
  {
   "cell_type": "code",
   "execution_count": 3,
   "id": "a0f9d4ae",
   "metadata": {},
   "outputs": [
    {
     "name": "stdout",
     "output_type": "stream",
     "text": [
      "the file does not exist\n"
     ]
    }
   ],
   "source": [
    "try:\n",
    "    f = open(\"demofile.txt\")\n",
    "except FileNotFoundError:\n",
    "    print(\"the file does not exist\")"
   ]
  },
  {
   "cell_type": "markdown",
   "id": "ff6d376f",
   "metadata": {},
   "source": [
    "#### Exercise 2\n",
    "In the next cell, this method perform the withdrawing functionality, it should subtract the needed amount from the current amount\n",
    "it will throws an exception if there is not enough money which will be handled with try..except"
   ]
  },
  {
   "cell_type": "code",
   "execution_count": 18,
   "id": "c1bd79af",
   "metadata": {},
   "outputs": [],
   "source": [
    "def withdraw(neededAmount):\n",
    "    try:\n",
    "        amount = 100\n",
    "        if(neededAmount < amount):\n",
    "            amount -= neededAmount\n",
    "            print(\"withdrawing %d SR\" % (neededAmount))\n",
    "            print(\"the current amount is %d SR \" % (amount))\n",
    "        else:\n",
    "            raise Exception()\n",
    "    except:\n",
    "        print(\"the avaliable amount is not enough\")\n",
    "        "
   ]
  },
  {
   "cell_type": "code",
   "execution_count": 19,
   "id": "93920d65",
   "metadata": {},
   "outputs": [
    {
     "name": "stdout",
     "output_type": "stream",
     "text": [
      "withdrawing 10 SR\n",
      "the current amount is 90 SR \n"
     ]
    }
   ],
   "source": [
    "withdraw(10)"
   ]
  },
  {
   "cell_type": "code",
   "execution_count": 20,
   "id": "f18c55d6",
   "metadata": {},
   "outputs": [
    {
     "name": "stdout",
     "output_type": "stream",
     "text": [
      "the avaliable amount is not enough\n"
     ]
    }
   ],
   "source": [
    "withdraw(101)"
   ]
  }
 ],
 "metadata": {
  "kernelspec": {
   "display_name": "Python 3 (ipykernel)",
   "language": "python",
   "name": "python3"
  },
  "language_info": {
   "codemirror_mode": {
    "name": "ipython",
    "version": 3
   },
   "file_extension": ".py",
   "mimetype": "text/x-python",
   "name": "python",
   "nbconvert_exporter": "python",
   "pygments_lexer": "ipython3",
   "version": "3.9.13"
  }
 },
 "nbformat": 4,
 "nbformat_minor": 5
}
